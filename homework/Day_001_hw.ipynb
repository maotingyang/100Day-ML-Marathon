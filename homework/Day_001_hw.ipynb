{
 "cells": [
  {
   "cell_type": "markdown",
   "metadata": {},
   "source": [
    "# D1：資料介紹與評估指標\n",
    "\n",
    "## 作業一、我選擇的dataset：[Sentiment140 dataset with 1.6 million tweets](https://www.kaggle.com/kazanova/sentiment140)\n",
    "\n",
    "### 1. 這組資料為何重要：\n",
    "這個資料集從推特上蒐集了160萬則推文，並把推文分成「負面」、「中性」、「正面」3種範疇，對想訓練情緒分析(sentiment analysis)模型的人很有幫助。\n",
    "### 2. 資料從何而來：\n",
    "這個資料集為史丹佛大學的研究人員使用推特官方api蒐集而來，比較特別的是，他們以推文中的表情符號分類情緒，比如:)代表正面，:(代表負面。\n",
    "### 3. 資料型態為何：\n",
    "資料集包含六個欄位：\n",
    "1. target：數字，表示情緒分類，0為負面，2為中性，4為正面。\n",
    "2. ids：   數字，推文的ID。\n",
    "3. date：  字串，推文時間，(ex: Sat May 16 23:58:44 UTC 2009)。\n",
    "4. flag：  字串，不太確定意思，可能是tag某人，這個欄位大部分為'no query'。\n",
    "5. user：  字串，推文者。\n",
    "6. text：  字串，推文內容\n",
    "\n",
    "### 4. 這組資料如何評估：\n",
    "我的想法是，1、6欄位最為重要，利用拆字的方式建立一個情緒分析模型；時間欄位可能有用，比如半夜推文有比較快樂或悲傷的傾向；flag欄位也可能有用，比如tag到川普的推文可能大部分為負面；id和user欄位可丟棄。\n",
    "把資料切成8:2或7:3分，多數訓練模型，少數驗證準確度。"
   ]
  },
  {
   "cell_type": "markdown",
   "metadata": {},
   "source": [
    "## 作業二、想像你經營一個自由載客車隊，你希望能透過數據分析以提升業績，請你思考並描述你如何規劃整體的分析/解決方案：\n",
    "\n",
    "### 1. 核心問題為何 (tips：如何定義 「提升業績 & 你的假設」)\n",
    "答：提升業績最直接的是獲利增加，達成的方法可能是提高載客率或降低成本…etc\n",
    "\n",
    "### 2. 資料從何而來 (tips：哪些資料可能會對你想問的問題產生影響 & 資料如何蒐集)\n",
    "答：提高載客率的資料來源可能有：搭車尖峰時段、熱門搭車路段＼區域＼城市、對手的載客率…\n",
    "    降低成本的資料來源可能有：搭車尖峰時段、熱門搭車路段＼區域＼城市、車輛＼司機數量…\n",
    "    這些資料從何而來：Google地圖、導航、司機回報…\n",
    "\n",
    "### 3. 蒐集而來的資料型態為何\n",
    "答：文字、時間、數字\n",
    "\n",
    "### 4. 你要回答的問題，其如何評估 (tips：你的假設如何驗證)\n",
    "答：以提高載客率來說，若空車比率和當月獲利成反比，即可驗證載客率和獲利有正相關性。\n",
    "\n",
    "## 作業三"
   ]
  },
  {
   "cell_type": "code",
   "execution_count": 1,
   "metadata": {},
   "outputs": [],
   "source": [
    "import numpy as np\n",
    "import matplotlib.pyplot as plt"
   ]
  },
  {
   "cell_type": "code",
   "execution_count": 2,
   "metadata": {},
   "outputs": [
    {
     "name": "stdout",
     "output_type": "stream",
     "text": [
      "<class 'numpy.ndarray'>\n"
     ]
    },
    {
     "data": {
      "image/png": "[encoded data removed]",
      "text/plain": [
       "<Figure size 432x288 with 1 Axes>"
      ]
     },
     "metadata": {
      "needs_background": "light"
     },
     "output_type": "display_data"
    }
   ],
   "source": [
    "w = 3\n",
    "b = 0.5\n",
    "\n",
    "x_lin = np.linspace(0, 100, 101)\n",
    "print(type(x_lin))\n",
    "\n",
    "y = (x_lin + np.random.randn(101) * 5) * w + b\n",
    "\n",
    "plt.plot(x_lin, y, 'b.', label = 'data points')\n",
    "plt.title(\"Assume we have data points\")\n",
    "plt.legend(loc = 2)  # 2是左上角\n",
    "plt.show()"
   ]
  },
  {
   "cell_type": "code",
   "execution_count": 6,
   "metadata": {},
   "outputs": [
    {
     "data": {
      "image/png": "[encoded data removed]",
      "text/plain": [
       "<Figure size 432x288 with 1 Axes>"
      ]
     },
     "metadata": {
      "needs_background": "light"
     },
     "output_type": "display_data"
    }
   ],
   "source": [
    "y_hat = x_lin * w + b\n",
    "plt.plot(x_lin, y, 'b.', label = 'data')\n",
    "plt.plot(x_lin, y_hat, 'r-', label = 'prediction')\n",
    "plt.title(\"Assume we have data points (And the prediction)\")\n",
    "plt.legend(loc = 2)\n",
    "plt.show()"
   ]
  },
  {
   "cell_type": "code",
   "execution_count": 7,
   "metadata": {},
   "outputs": [
    {
     "name": "stdout",
     "output_type": "stream",
     "text": [
      "The Mean absolute error is 11.382\n"
     ]
    }
   ],
   "source": [
    "def mean_absolute_error(y, yp):\n",
    "    \"\"\"\n",
    "    計算 MAE\n",
    "    Args:\n",
    "        - y: 實際值\n",
    "        - yp: 預測值\n",
    "    Return:\n",
    "        - mae: MAE\n",
    "    \"\"\"\n",
    "    mae = MAE = sum(abs(y - yp)) / len(y)\n",
    "    return mae\n",
    "\n",
    "MAE = mean_absolute_error(y, y_hat)\n",
    "print(\"The Mean absolute error is %.3f\" % (MAE))"
   ]
  },
  {
   "cell_type": "markdown",
   "metadata": {},
   "source": [
    "請寫一個函式用來計算 Mean Square Error\n",
    "$ MSE = \\frac{1}{n}\\sum_{i=1}^{n}{(Y_i - \\hat{Y}_i)^2} $\n",
    "\n",
    "Hint: 如何取平方"
   ]
  },
  {
   "cell_type": "code",
   "execution_count": 11,
   "metadata": {},
   "outputs": [
    {
     "name": "stdout",
     "output_type": "stream",
     "text": [
      "The mean square error is 199.354\n"
     ]
    }
   ],
   "source": [
    "def mean_square_error(y, yp):\n",
    "    \"\"\"\n",
    "    計算MSE\n",
    "    Args:\n",
    "        - y: 實際值\n",
    "        - yp: 預測值\n",
    "    Return:\n",
    "        - mse: MSE\n",
    "    \"\"\"\n",
    "    mse = MSE = sum((y-yp)**2) / len(y)\n",
    "    return mse\n",
    "\n",
    "MSE = mean_square_error(y, y_hat)\n",
    "print(\"The mean square error is {:.3f}\".format(MSE))"
   ]
  },
  {
   "cell_type": "code",
   "execution_count": null,
   "metadata": {},
   "outputs": [],
   "source": []
  }
 ],
 "metadata": {
  "kernelspec": {
   "display_name": "Python 3",
   "language": "python",
   "name": "python3"
  },
  "language_info": {
   "codemirror_mode": {
    "name": "ipython",
    "version": 3
   },
   "file_extension": ".py",
   "mimetype": "text/x-python",
   "name": "python",
   "nbconvert_exporter": "python",
   "pygments_lexer": "ipython3",
   "version": "3.6.7"
  }
 },
 "nbformat": 4,
 "nbformat_minor": 2
}
