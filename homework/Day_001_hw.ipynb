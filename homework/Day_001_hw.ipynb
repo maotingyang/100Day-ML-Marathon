{
 "cells": [
  {
   "cell_type": "markdown",
   "metadata": {},
   "source": [
    "# D1：資料介紹與評估指標\n",
    "\n",
    "## 我選擇的dataset：[Sentiment140 dataset with 1.6 million tweets](https://www.kaggle.com/kazanova/sentiment140)\n",
    "\n",
    "### 1. 這組資料為何重要：\n",
    "這個資料集從推特上蒐集了160萬則推文，並把推文分成「負面」、「中性」、「正面」3種範疇，對想訓練情緒分析(sentiment analysis)模型的人很有幫助。\n",
    "### 2. 資料從何而來：\n",
    "這個資料集為史丹佛大學的研究人員使用推特官方api蒐集而來，比較特別的是，他們以推文中的表情符號分類情緒，比如:)代表正面，:(代表負面。\n",
    "### 3. 資料型態為何：\n",
    "資料集包含六個欄位：\n",
    "1. target：數字，表示情緒分類，0為負面，2為中性，4為正面。\n",
    "2. ids：   數字，推文的ID。\n",
    "3. date：  字串，推文時間，(ex: Sat May 16 23:58:44 UTC 2009)。\n",
    "4. flag：  字串，不太確定意思，可能是tag某人，這個欄位大部分為'no query'。\n",
    "5. user：  字串，推文者。\n",
    "6. text：  字串，推文內容\n",
    "\n",
    "### 4. 這組資料如何評估：\n",
    "我的想法是，1、6欄位最為重要，利用拆字的方式建立一個情緒分析模型；時間欄位可能有用，比如半夜推文有比較快樂或悲傷的傾向；flag欄位也可能有用，比如tag到川普的推文可能大部分為負面；id和user欄位可丟棄。\n",
    "把資料切成8:2或7:3分，多數訓練模型，少數驗證準確度。"
   ]
  },
  {
   "cell_type": "code",
   "execution_count": null,
   "metadata": {},
   "outputs": [],
   "source": []
  }
 ],
 "metadata": {
  "kernelspec": {
   "display_name": "Python 3",
   "language": "python",
   "name": "python3"
  },
  "language_info": {
   "codemirror_mode": {
    "name": "ipython",
    "version": 3
   },
   "file_extension": ".py",
   "mimetype": "text/x-python",
   "name": "python",
   "nbconvert_exporter": "python",
   "pygments_lexer": "ipython3",
   "version": "3.6.7"
  }
 },
 "nbformat": 4,
 "nbformat_minor": 2
}
